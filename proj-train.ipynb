{
 "cells": [
  {
   "cell_type": "code",
   "execution_count": 22,
   "metadata": {
    "collapsed": true
   },
   "outputs": [],
   "source": [
    "import numpy as np\n",
    "import mxnet as mx\n",
    "import time\n",
    "import pandas as pd\n",
    "\n",
    "import cv2\n",
    "\n",
    "import logging\n",
    "logging.getLogger().setLevel(logging.DEBUG)  # logging to stdout"
   ]
  },
  {
   "cell_type": "code",
   "execution_count": 23,
   "metadata": {
    "collapsed": true
   },
   "outputs": [],
   "source": [
    "import matplotlib.pyplot as plt\n",
    "%matplotlib inline"
   ]
  },
  {
   "cell_type": "code",
   "execution_count": 24,
   "metadata": {
    "collapsed": true
   },
   "outputs": [],
   "source": [
    "data0 = pd.read_csv('full_hand_data.csv')#, names=['name','state'])"
   ]
  },
  {
   "cell_type": "code",
   "execution_count": 25,
   "metadata": {},
   "outputs": [
    {
     "data": {
      "text/html": [
       "<div>\n",
       "<style>\n",
       "    .dataframe thead tr:only-child th {\n",
       "        text-align: right;\n",
       "    }\n",
       "\n",
       "    .dataframe thead th {\n",
       "        text-align: left;\n",
       "    }\n",
       "\n",
       "    .dataframe tbody tr th {\n",
       "        vertical-align: top;\n",
       "    }\n",
       "</style>\n",
       "<table border=\"1\" class=\"dataframe\">\n",
       "  <thead>\n",
       "    <tr style=\"text-align: right;\">\n",
       "      <th></th>\n",
       "      <th>name</th>\n",
       "      <th>state</th>\n",
       "    </tr>\n",
       "  </thead>\n",
       "  <tbody>\n",
       "    <tr>\n",
       "      <th>0</th>\n",
       "      <td>data/fdata1/hand_pic/a_232bf02f_0_lc.jpg</td>\n",
       "      <td>0</td>\n",
       "    </tr>\n",
       "    <tr>\n",
       "      <th>1</th>\n",
       "      <td>data/fdata1/hand_pic/a_232bf02f_1_lo.jpg</td>\n",
       "      <td>1</td>\n",
       "    </tr>\n",
       "    <tr>\n",
       "      <th>2</th>\n",
       "      <td>data/fdata1/hand_pic/a_232bf02f_2_lq.jpg</td>\n",
       "      <td>2</td>\n",
       "    </tr>\n",
       "    <tr>\n",
       "      <th>3</th>\n",
       "      <td>data/fdata1/hand_pic/a_232bf02f_3_lw.jpg</td>\n",
       "      <td>3</td>\n",
       "    </tr>\n",
       "    <tr>\n",
       "      <th>4</th>\n",
       "      <td>data/fdata1/hand_pic/a_232bf02f_4_le.jpg</td>\n",
       "      <td>4</td>\n",
       "    </tr>\n",
       "  </tbody>\n",
       "</table>\n",
       "</div>"
      ],
      "text/plain": [
       "                                       name  state\n",
       "0  data/fdata1/hand_pic/a_232bf02f_0_lc.jpg      0\n",
       "1  data/fdata1/hand_pic/a_232bf02f_1_lo.jpg      1\n",
       "2  data/fdata1/hand_pic/a_232bf02f_2_lq.jpg      2\n",
       "3  data/fdata1/hand_pic/a_232bf02f_3_lw.jpg      3\n",
       "4  data/fdata1/hand_pic/a_232bf02f_4_le.jpg      4"
      ]
     },
     "execution_count": 25,
     "metadata": {},
     "output_type": "execute_result"
    }
   ],
   "source": [
    "data0.head()"
   ]
  },
  {
   "cell_type": "code",
   "execution_count": 26,
   "metadata": {
    "collapsed": true
   },
   "outputs": [],
   "source": [
    "num_class = len(data0['state'].unique())"
   ]
  },
  {
   "cell_type": "code",
   "execution_count": 27,
   "metadata": {},
   "outputs": [
    {
     "data": {
      "text/plain": [
       "{u'0': u' lc',\n",
       " u'1': u' lo',\n",
       " u'10': u' mc',\n",
       " u'11': u' mo',\n",
       " u'12': u' mq',\n",
       " u'13': u' mw',\n",
       " u'14': u' me',\n",
       " u'15': u' m1',\n",
       " u'16': u' m2',\n",
       " u'17': u' m3',\n",
       " u'18': u' m4',\n",
       " u'19': u' m5',\n",
       " u'2': u' lq',\n",
       " u'20': u' rc',\n",
       " u'21': u' ro',\n",
       " u'22': u' rq',\n",
       " u'23': u' rw',\n",
       " u'24': u' re',\n",
       " u'25': u' r1',\n",
       " u'26': u' r2',\n",
       " u'27': u' r3',\n",
       " u'28': u' r4',\n",
       " u'29': u' r5',\n",
       " u'3': u' lw',\n",
       " u'4': u' le',\n",
       " u'5': u' l1',\n",
       " u'6': u' l2',\n",
       " u'7': u' l3',\n",
       " u'8': u' l4',\n",
       " u'9': u' l5'}"
      ]
     },
     "execution_count": 27,
     "metadata": {},
     "output_type": "execute_result"
    }
   ],
   "source": [
    "import json\n",
    "with open('num2ges.json') as fin:\n",
    "    num_to_ges = json.load(fin, encoding='latin')\n",
    "num_to_ges"
   ]
  },
  {
   "cell_type": "code",
   "execution_count": 28,
   "metadata": {
    "collapsed": true
   },
   "outputs": [],
   "source": [
    "# data0 = data0.replace({'state':ges_to_num})"
   ]
  },
  {
   "cell_type": "code",
   "execution_count": 29,
   "metadata": {},
   "outputs": [
    {
     "data": {
      "text/plain": [
       "(2160, 2)"
      ]
     },
     "execution_count": 29,
     "metadata": {},
     "output_type": "execute_result"
    }
   ],
   "source": [
    "data0.shape"
   ]
  },
  {
   "cell_type": "code",
   "execution_count": 30,
   "metadata": {},
   "outputs": [
    {
     "data": {
      "text/plain": [
       "((2160, 3, 200, 200), (2160,))"
      ]
     },
     "execution_count": 30,
     "metadata": {},
     "output_type": "execute_result"
    }
   ],
   "source": [
    "labels = np.empty((data0.shape[0]))\n",
    "\n",
    "res_width, res_height = 200, 200\n",
    "imgs = np.empty(shape=(data0.shape[0],3, res_width,res_height))\n",
    "imgs.shape, labels.shape"
   ]
  },
  {
   "cell_type": "code",
   "execution_count": 31,
   "metadata": {
    "collapsed": true
   },
   "outputs": [],
   "source": [
    "\n",
    "for i, (im_path, state) in enumerate(data0.values):\n",
    "#     im_path = prefix + im_name\n",
    "#     print im_path\n",
    "    img = cv2.imread(im_path)\n",
    "    gray = cv2.cvtColor(img, cv2.COLOR_BGR2YCR_CB)\n",
    "    res = cv2.resize(gray,(200, 200), interpolation=cv2.INTER_CUBIC)\n",
    "\n",
    "    res = np.swapaxes(res, 0, 2)\n",
    "    res = np.swapaxes(res, 1, 2)\n",
    "    res = res[np.newaxis, :]\n",
    "\n",
    "    imgs[i] = res\n",
    "    labels[i] = state"
   ]
  },
  {
   "cell_type": "code",
   "execution_count": 32,
   "metadata": {
    "collapsed": true
   },
   "outputs": [],
   "source": [
    "# plt.imshow(gray)"
   ]
  },
  {
   "cell_type": "code",
   "execution_count": 33,
   "metadata": {
    "collapsed": true
   },
   "outputs": [],
   "source": [
    "from sklearn.model_selection import train_test_split\n",
    "train_data, test_data, train_label, test_label = train_test_split(imgs, labels, test_size=0.1, shuffle=True)"
   ]
  },
  {
   "cell_type": "code",
   "execution_count": 34,
   "metadata": {},
   "outputs": [
    {
     "data": {
      "text/plain": [
       "((1944, 3, 200, 200), (1944,), (216, 3, 200, 200), (216,))"
      ]
     },
     "execution_count": 34,
     "metadata": {},
     "output_type": "execute_result"
    }
   ],
   "source": [
    "# train_data, train_label = imgs, labels\n",
    "# test_data, test_label = imgs[23:], labels[2:]\n",
    "train_data.shape, train_label.shape, test_data.shape, test_label.shape"
   ]
  },
  {
   "cell_type": "code",
   "execution_count": 35,
   "metadata": {},
   "outputs": [
    {
     "data": {
      "text/plain": [
       "array([  0.,   9.,  27.,   3.,  14.,   4.,   7.,  26.,  24.,  16.,   5.,\n",
       "         5.,   8.,  11.,  21.,   4.,  13.,  11.,   4.,  29.,  27.,  11.,\n",
       "        15.,  26.,   3.,   5.,  13.,  24.,  23.,  15.,  15.,  11.,  21.,\n",
       "         7.,  29.,  26.,  19.,  16.,  24.,  20.,  22.,   5.,  13.,  26.,\n",
       "        17.,   1.,   1.,  27.,  25.,   1.,   6.,  26.,   7.,  25.,  17.,\n",
       "        10.,   3.,  27.,   8.,  13.,  10.,  25.,   3.,  21.,  28.,  15.,\n",
       "        15.,  27.,   5.,  13.,  24.,  16.,  10.,   6.,  15.,  11.,  29.,\n",
       "        20.,   4.,  15.,   7.,  11.,   6.,  19.,  17.,  29.,  12.,   5.,\n",
       "         1.,  24.,  13.,   5.,  23.,  19.,  29.,  28.,   6.,  21.,  15.,\n",
       "        13.,   8.,  16.,   8.,  17.,  18.,  15.,   7.,  11.,  21.,  15.,\n",
       "         9.,  11.,  28.,   4.,  11.,  22.,   4.,  10.,  23.,   6.,  11.,\n",
       "         7.,  29.,  25.,   7.,   2.,  22.,   6.,  23.,  15.,   2.,   8.,\n",
       "        22.,  21.,  13.,  25.,   0.,  26.,  11.,  24.,   4.,   3.,  12.,\n",
       "         2.,  14.,  22.,  29.,  13.,  10.,   1.,   3.,  27.,   3.,   4.,\n",
       "        11.,   5.,  11.,   7.,   1.,  24.,  14.,   6.,  16.,  16.,  19.,\n",
       "         5.,  13.,  18.,  27.,   0.,  29.,   4.,  10.,   6.,  14.,  22.,\n",
       "         7.,  25.,  16.,  11.,  25.,  26.,   7.,   2.,   7.,   2.,   8.,\n",
       "        26.,  14.,  17.,  13.,  14.,  28.,   3.,   3.,  25.,  28.,  16.,\n",
       "         8.,   7.,  16.,   7.,  23.,  12.,   0.,   4.,  21.,  12.,  23.,\n",
       "        21.,  22.,   1.,  24.,   7.,  17.,   4.])"
      ]
     },
     "execution_count": 35,
     "metadata": {},
     "output_type": "execute_result"
    }
   ],
   "source": [
    "test_label"
   ]
  },
  {
   "cell_type": "code",
   "execution_count": 36,
   "metadata": {
    "collapsed": true
   },
   "outputs": [],
   "source": [
    "batch_size = 128\n",
    "train_iter = mx.io.NDArrayIter(train_data, train_label, batch_size, shuffle=True)\n",
    "eval_iter = mx.io.NDArrayIter(test_data, test_label, batch_size)"
   ]
  },
  {
   "cell_type": "code",
   "execution_count": 37,
   "metadata": {
    "scrolled": true
   },
   "outputs": [
    {
     "data": {
      "image/svg+xml": [
       "<?xml version=\"1.0\" encoding=\"UTF-8\" standalone=\"no\"?>\n",
       "<!DOCTYPE svg PUBLIC \"-//W3C//DTD SVG 1.1//EN\"\n",
       " \"http://www.w3.org/Graphics/SVG/1.1/DTD/svg11.dtd\">\n",
       "<!-- Generated by graphviz version 2.38.0 (20140413.2041)\n",
       " -->\n",
       "<!-- Title: plot Pages: 1 -->\n",
       "<svg width=\"214pt\" height=\"1382pt\"\n",
       " viewBox=\"0.00 0.00 214.00 1382.00\" xmlns=\"http://www.w3.org/2000/svg\" xmlns:xlink=\"http://www.w3.org/1999/xlink\">\n",
       "<g id=\"graph0\" class=\"graph\" transform=\"scale(1 1) rotate(0) translate(4 1378)\">\n",
       "<title>plot</title>\n",
       "<polygon fill=\"white\" stroke=\"none\" points=\"-4,4 -4,-1378 210,-1378 210,4 -4,4\"/>\n",
       "<!-- data -->\n",
       "<g id=\"node1\" class=\"node\"><title>data</title>\n",
       "<ellipse fill=\"#8dd3c7\" stroke=\"black\" cx=\"47\" cy=\"-29\" rx=\"47\" ry=\"29\"/>\n",
       "<text text-anchor=\"middle\" x=\"47\" y=\"-25.3\" font-family=\"Times,serif\" font-size=\"14.00\">data</text>\n",
       "</g>\n",
       "<!-- conv1 -->\n",
       "<g id=\"node2\" class=\"node\"><title>conv1</title>\n",
       "<polygon fill=\"#fb8072\" stroke=\"black\" points=\"94,-152 -7.10543e-15,-152 -7.10543e-15,-94 94,-94 94,-152\"/>\n",
       "<text text-anchor=\"middle\" x=\"47\" y=\"-126.8\" font-family=\"Times,serif\" font-size=\"14.00\">Convolution</text>\n",
       "<text text-anchor=\"middle\" x=\"47\" y=\"-111.8\" font-family=\"Times,serif\" font-size=\"14.00\">5x5/1, 20</text>\n",
       "</g>\n",
       "<!-- conv1&#45;&gt;data -->\n",
       "<g id=\"edge1\" class=\"edge\"><title>conv1&#45;&gt;data</title>\n",
       "<path fill=\"none\" stroke=\"black\" d=\"M47,-83.7443C47,-75.2043 47,-66.2977 47,-58.2479\"/>\n",
       "<polygon fill=\"black\" stroke=\"black\" points=\"47,-93.8971 42.5001,-83.897 47,-88.8971 47.0001,-83.8971 47.0001,-83.8971 47.0001,-83.8971 47,-88.8971 51.5001,-83.8971 47,-93.8971 47,-93.8971\"/>\n",
       "</g>\n",
       "<!-- batchnorm2 -->\n",
       "<g id=\"node3\" class=\"node\"><title>batchnorm2</title>\n",
       "<polygon fill=\"#bebada\" stroke=\"black\" points=\"94,-246 -7.10543e-15,-246 -7.10543e-15,-188 94,-188 94,-246\"/>\n",
       "<text text-anchor=\"middle\" x=\"47\" y=\"-213.3\" font-family=\"Times,serif\" font-size=\"14.00\">batchnorm2</text>\n",
       "</g>\n",
       "<!-- batchnorm2&#45;&gt;conv1 -->\n",
       "<g id=\"edge2\" class=\"edge\"><title>batchnorm2&#45;&gt;conv1</title>\n",
       "<path fill=\"none\" stroke=\"black\" d=\"M47,-177.744C47,-169.204 47,-160.298 47,-152.248\"/>\n",
       "<polygon fill=\"black\" stroke=\"black\" points=\"47,-187.897 42.5001,-177.897 47,-182.897 47.0001,-177.897 47.0001,-177.897 47.0001,-177.897 47,-182.897 51.5001,-177.897 47,-187.897 47,-187.897\"/>\n",
       "</g>\n",
       "<!-- activation3 -->\n",
       "<g id=\"node4\" class=\"node\"><title>activation3</title>\n",
       "<polygon fill=\"#ffffb3\" stroke=\"black\" points=\"94,-340 -7.10543e-15,-340 -7.10543e-15,-282 94,-282 94,-340\"/>\n",
       "<text text-anchor=\"middle\" x=\"47\" y=\"-314.8\" font-family=\"Times,serif\" font-size=\"14.00\">Activation</text>\n",
       "<text text-anchor=\"middle\" x=\"47\" y=\"-299.8\" font-family=\"Times,serif\" font-size=\"14.00\">relu</text>\n",
       "</g>\n",
       "<!-- activation3&#45;&gt;batchnorm2 -->\n",
       "<g id=\"edge3\" class=\"edge\"><title>activation3&#45;&gt;batchnorm2</title>\n",
       "<path fill=\"none\" stroke=\"black\" d=\"M47,-271.744C47,-263.204 47,-254.298 47,-246.248\"/>\n",
       "<polygon fill=\"black\" stroke=\"black\" points=\"47,-281.897 42.5001,-271.897 47,-276.897 47.0001,-271.897 47.0001,-271.897 47.0001,-271.897 47,-276.897 51.5001,-271.897 47,-281.897 47,-281.897\"/>\n",
       "</g>\n",
       "<!-- pooling2 -->\n",
       "<g id=\"node5\" class=\"node\"><title>pooling2</title>\n",
       "<polygon fill=\"#80b1d3\" stroke=\"black\" points=\"94,-434 -7.10543e-15,-434 -7.10543e-15,-376 94,-376 94,-434\"/>\n",
       "<text text-anchor=\"middle\" x=\"47\" y=\"-408.8\" font-family=\"Times,serif\" font-size=\"14.00\">Pooling</text>\n",
       "<text text-anchor=\"middle\" x=\"47\" y=\"-393.8\" font-family=\"Times,serif\" font-size=\"14.00\">max, 2x2/2x2</text>\n",
       "</g>\n",
       "<!-- pooling2&#45;&gt;activation3 -->\n",
       "<g id=\"edge4\" class=\"edge\"><title>pooling2&#45;&gt;activation3</title>\n",
       "<path fill=\"none\" stroke=\"black\" d=\"M47,-365.744C47,-357.204 47,-348.298 47,-340.248\"/>\n",
       "<polygon fill=\"black\" stroke=\"black\" points=\"47,-375.897 42.5001,-365.897 47,-370.897 47.0001,-365.897 47.0001,-365.897 47.0001,-365.897 47,-370.897 51.5001,-365.897 47,-375.897 47,-375.897\"/>\n",
       "</g>\n",
       "<!-- conv2 -->\n",
       "<g id=\"node6\" class=\"node\"><title>conv2</title>\n",
       "<polygon fill=\"#fb8072\" stroke=\"black\" points=\"94,-528 -7.10543e-15,-528 -7.10543e-15,-470 94,-470 94,-528\"/>\n",
       "<text text-anchor=\"middle\" x=\"47\" y=\"-502.8\" font-family=\"Times,serif\" font-size=\"14.00\">Convolution</text>\n",
       "<text text-anchor=\"middle\" x=\"47\" y=\"-487.8\" font-family=\"Times,serif\" font-size=\"14.00\">5x5/1, 50</text>\n",
       "</g>\n",
       "<!-- conv2&#45;&gt;pooling2 -->\n",
       "<g id=\"edge5\" class=\"edge\"><title>conv2&#45;&gt;pooling2</title>\n",
       "<path fill=\"none\" stroke=\"black\" d=\"M47,-459.744C47,-451.204 47,-442.298 47,-434.248\"/>\n",
       "<polygon fill=\"black\" stroke=\"black\" points=\"47,-469.897 42.5001,-459.897 47,-464.897 47.0001,-459.897 47.0001,-459.897 47.0001,-459.897 47,-464.897 51.5001,-459.897 47,-469.897 47,-469.897\"/>\n",
       "</g>\n",
       "<!-- batchnorm3 -->\n",
       "<g id=\"node7\" class=\"node\"><title>batchnorm3</title>\n",
       "<polygon fill=\"#bebada\" stroke=\"black\" points=\"94,-622 -7.10543e-15,-622 -7.10543e-15,-564 94,-564 94,-622\"/>\n",
       "<text text-anchor=\"middle\" x=\"47\" y=\"-589.3\" font-family=\"Times,serif\" font-size=\"14.00\">batchnorm3</text>\n",
       "</g>\n",
       "<!-- batchnorm3&#45;&gt;conv2 -->\n",
       "<g id=\"edge6\" class=\"edge\"><title>batchnorm3&#45;&gt;conv2</title>\n",
       "<path fill=\"none\" stroke=\"black\" d=\"M47,-553.744C47,-545.204 47,-536.298 47,-528.248\"/>\n",
       "<polygon fill=\"black\" stroke=\"black\" points=\"47,-563.897 42.5001,-553.897 47,-558.897 47.0001,-553.897 47.0001,-553.897 47.0001,-553.897 47,-558.897 51.5001,-553.897 47,-563.897 47,-563.897\"/>\n",
       "</g>\n",
       "<!-- activation4 -->\n",
       "<g id=\"node8\" class=\"node\"><title>activation4</title>\n",
       "<polygon fill=\"#ffffb3\" stroke=\"black\" points=\"94,-716 -7.10543e-15,-716 -7.10543e-15,-658 94,-658 94,-716\"/>\n",
       "<text text-anchor=\"middle\" x=\"47\" y=\"-690.8\" font-family=\"Times,serif\" font-size=\"14.00\">Activation</text>\n",
       "<text text-anchor=\"middle\" x=\"47\" y=\"-675.8\" font-family=\"Times,serif\" font-size=\"14.00\">relu</text>\n",
       "</g>\n",
       "<!-- activation4&#45;&gt;batchnorm3 -->\n",
       "<g id=\"edge7\" class=\"edge\"><title>activation4&#45;&gt;batchnorm3</title>\n",
       "<path fill=\"none\" stroke=\"black\" d=\"M47,-647.744C47,-639.204 47,-630.298 47,-622.248\"/>\n",
       "<polygon fill=\"black\" stroke=\"black\" points=\"47,-657.897 42.5001,-647.897 47,-652.897 47.0001,-647.897 47.0001,-647.897 47.0001,-647.897 47,-652.897 51.5001,-647.897 47,-657.897 47,-657.897\"/>\n",
       "</g>\n",
       "<!-- pooling3 -->\n",
       "<g id=\"node9\" class=\"node\"><title>pooling3</title>\n",
       "<polygon fill=\"#80b1d3\" stroke=\"black\" points=\"94,-810 -7.10543e-15,-810 -7.10543e-15,-752 94,-752 94,-810\"/>\n",
       "<text text-anchor=\"middle\" x=\"47\" y=\"-784.8\" font-family=\"Times,serif\" font-size=\"14.00\">Pooling</text>\n",
       "<text text-anchor=\"middle\" x=\"47\" y=\"-769.8\" font-family=\"Times,serif\" font-size=\"14.00\">max, 2x2/2x2</text>\n",
       "</g>\n",
       "<!-- pooling3&#45;&gt;activation4 -->\n",
       "<g id=\"edge8\" class=\"edge\"><title>pooling3&#45;&gt;activation4</title>\n",
       "<path fill=\"none\" stroke=\"black\" d=\"M47,-741.744C47,-733.204 47,-724.298 47,-716.248\"/>\n",
       "<polygon fill=\"black\" stroke=\"black\" points=\"47,-751.897 42.5001,-741.897 47,-746.897 47.0001,-741.897 47.0001,-741.897 47.0001,-741.897 47,-746.897 51.5001,-741.897 47,-751.897 47,-751.897\"/>\n",
       "</g>\n",
       "<!-- flatten1 -->\n",
       "<g id=\"node10\" class=\"node\"><title>flatten1</title>\n",
       "<polygon fill=\"#fdb462\" stroke=\"black\" points=\"94,-904 -7.10543e-15,-904 -7.10543e-15,-846 94,-846 94,-904\"/>\n",
       "<text text-anchor=\"middle\" x=\"47\" y=\"-871.3\" font-family=\"Times,serif\" font-size=\"14.00\">flatten1</text>\n",
       "</g>\n",
       "<!-- flatten1&#45;&gt;pooling3 -->\n",
       "<g id=\"edge9\" class=\"edge\"><title>flatten1&#45;&gt;pooling3</title>\n",
       "<path fill=\"none\" stroke=\"black\" d=\"M47,-835.744C47,-827.204 47,-818.298 47,-810.248\"/>\n",
       "<polygon fill=\"black\" stroke=\"black\" points=\"47,-845.897 42.5001,-835.897 47,-840.897 47.0001,-835.897 47.0001,-835.897 47.0001,-835.897 47,-840.897 51.5001,-835.897 47,-845.897 47,-845.897\"/>\n",
       "</g>\n",
       "<!-- fullyconnected2 -->\n",
       "<g id=\"node11\" class=\"node\"><title>fullyconnected2</title>\n",
       "<polygon fill=\"#fb8072\" stroke=\"black\" points=\"94,-998 -7.10543e-15,-998 -7.10543e-15,-940 94,-940 94,-998\"/>\n",
       "<text text-anchor=\"middle\" x=\"47\" y=\"-972.8\" font-family=\"Times,serif\" font-size=\"14.00\">FullyConnected</text>\n",
       "<text text-anchor=\"middle\" x=\"47\" y=\"-957.8\" font-family=\"Times,serif\" font-size=\"14.00\">512</text>\n",
       "</g>\n",
       "<!-- fullyconnected2&#45;&gt;flatten1 -->\n",
       "<g id=\"edge10\" class=\"edge\"><title>fullyconnected2&#45;&gt;flatten1</title>\n",
       "<path fill=\"none\" stroke=\"black\" d=\"M47,-929.744C47,-921.204 47,-912.298 47,-904.248\"/>\n",
       "<polygon fill=\"black\" stroke=\"black\" points=\"47,-939.897 42.5001,-929.897 47,-934.897 47.0001,-929.897 47.0001,-929.897 47.0001,-929.897 47,-934.897 51.5001,-929.897 47,-939.897 47,-939.897\"/>\n",
       "</g>\n",
       "<!-- activation5 -->\n",
       "<g id=\"node12\" class=\"node\"><title>activation5</title>\n",
       "<polygon fill=\"#ffffb3\" stroke=\"black\" points=\"94,-1092 -7.10543e-15,-1092 -7.10543e-15,-1034 94,-1034 94,-1092\"/>\n",
       "<text text-anchor=\"middle\" x=\"47\" y=\"-1066.8\" font-family=\"Times,serif\" font-size=\"14.00\">Activation</text>\n",
       "<text text-anchor=\"middle\" x=\"47\" y=\"-1051.8\" font-family=\"Times,serif\" font-size=\"14.00\">relu</text>\n",
       "</g>\n",
       "<!-- activation5&#45;&gt;fullyconnected2 -->\n",
       "<g id=\"edge11\" class=\"edge\"><title>activation5&#45;&gt;fullyconnected2</title>\n",
       "<path fill=\"none\" stroke=\"black\" d=\"M47,-1023.74C47,-1015.2 47,-1006.3 47,-998.248\"/>\n",
       "<polygon fill=\"black\" stroke=\"black\" points=\"47,-1033.9 42.5001,-1023.9 47,-1028.9 47.0001,-1023.9 47.0001,-1023.9 47.0001,-1023.9 47,-1028.9 51.5001,-1023.9 47,-1033.9 47,-1033.9\"/>\n",
       "</g>\n",
       "<!-- dropout1 -->\n",
       "<g id=\"node13\" class=\"node\"><title>dropout1</title>\n",
       "<polygon fill=\"#fccde5\" stroke=\"black\" points=\"94,-1186 -7.10543e-15,-1186 -7.10543e-15,-1128 94,-1128 94,-1186\"/>\n",
       "<text text-anchor=\"middle\" x=\"47\" y=\"-1153.3\" font-family=\"Times,serif\" font-size=\"14.00\">dropout1</text>\n",
       "</g>\n",
       "<!-- dropout1&#45;&gt;activation5 -->\n",
       "<g id=\"edge12\" class=\"edge\"><title>dropout1&#45;&gt;activation5</title>\n",
       "<path fill=\"none\" stroke=\"black\" d=\"M47,-1117.74C47,-1109.2 47,-1100.3 47,-1092.25\"/>\n",
       "<polygon fill=\"black\" stroke=\"black\" points=\"47,-1127.9 42.5001,-1117.9 47,-1122.9 47.0001,-1117.9 47.0001,-1117.9 47.0001,-1117.9 47,-1122.9 51.5001,-1117.9 47,-1127.9 47,-1127.9\"/>\n",
       "</g>\n",
       "<!-- fullyconnected3 -->\n",
       "<g id=\"node14\" class=\"node\"><title>fullyconnected3</title>\n",
       "<polygon fill=\"#fb8072\" stroke=\"black\" points=\"94,-1280 -7.10543e-15,-1280 -7.10543e-15,-1222 94,-1222 94,-1280\"/>\n",
       "<text text-anchor=\"middle\" x=\"47\" y=\"-1254.8\" font-family=\"Times,serif\" font-size=\"14.00\">FullyConnected</text>\n",
       "<text text-anchor=\"middle\" x=\"47\" y=\"-1239.8\" font-family=\"Times,serif\" font-size=\"14.00\">30</text>\n",
       "</g>\n",
       "<!-- fullyconnected3&#45;&gt;dropout1 -->\n",
       "<g id=\"edge13\" class=\"edge\"><title>fullyconnected3&#45;&gt;dropout1</title>\n",
       "<path fill=\"none\" stroke=\"black\" d=\"M47,-1211.74C47,-1203.2 47,-1194.3 47,-1186.25\"/>\n",
       "<polygon fill=\"black\" stroke=\"black\" points=\"47,-1221.9 42.5001,-1211.9 47,-1216.9 47.0001,-1211.9 47.0001,-1211.9 47.0001,-1211.9 47,-1216.9 51.5001,-1211.9 47,-1221.9 47,-1221.9\"/>\n",
       "</g>\n",
       "<!-- softmax_label -->\n",
       "<g id=\"node15\" class=\"node\"><title>softmax_label</title>\n",
       "<ellipse fill=\"#8dd3c7\" stroke=\"black\" cx=\"159\" cy=\"-1251\" rx=\"47\" ry=\"29\"/>\n",
       "<text text-anchor=\"middle\" x=\"159\" y=\"-1247.3\" font-family=\"Times,serif\" font-size=\"14.00\">softmax_label</text>\n",
       "</g>\n",
       "<!-- softmax -->\n",
       "<g id=\"node16\" class=\"node\"><title>softmax</title>\n",
       "<polygon fill=\"#fccde5\" stroke=\"black\" points=\"150,-1374 56,-1374 56,-1316 150,-1316 150,-1374\"/>\n",
       "<text text-anchor=\"middle\" x=\"103\" y=\"-1341.3\" font-family=\"Times,serif\" font-size=\"14.00\">softmax</text>\n",
       "</g>\n",
       "<!-- softmax&#45;&gt;fullyconnected3 -->\n",
       "<g id=\"edge14\" class=\"edge\"><title>softmax&#45;&gt;fullyconnected3</title>\n",
       "<path fill=\"none\" stroke=\"black\" d=\"M80.5686,-1307.15C75.113,-1298.19 69.3635,-1288.74 64.1943,-1280.25\"/>\n",
       "<polygon fill=\"black\" stroke=\"black\" points=\"85.8939,-1315.9 76.8505,-1309.69 83.2941,-1311.63 80.6944,-1307.36 80.6944,-1307.36 80.6944,-1307.36 83.2941,-1311.63 84.5383,-1305.02 85.8939,-1315.9 85.8939,-1315.9\"/>\n",
       "</g>\n",
       "<!-- softmax&#45;&gt;softmax_label -->\n",
       "<g id=\"edge15\" class=\"edge\"><title>softmax&#45;&gt;softmax_label</title>\n",
       "<path fill=\"none\" stroke=\"black\" d=\"M125.377,-1307.24C131.257,-1297.58 137.481,-1287.35 142.955,-1278.36\"/>\n",
       "<polygon fill=\"black\" stroke=\"black\" points=\"120.106,-1315.9 121.462,-1305.02 122.706,-1311.63 125.306,-1307.36 125.306,-1307.36 125.306,-1307.36 122.706,-1311.63 129.15,-1309.69 120.106,-1315.9 120.106,-1315.9\"/>\n",
       "</g>\n",
       "</g>\n",
       "</svg>\n"
      ],
      "text/plain": [
       "<graphviz.dot.Digraph at 0x7f70996e2890>"
      ]
     },
     "execution_count": 37,
     "metadata": {},
     "output_type": "execute_result"
    }
   ],
   "source": [
    "data = mx.sym.var('data')\n",
    "\n",
    "conv1 = mx.sym.Convolution(data=data, kernel=(5,5), num_filter=20, name='conv1')\n",
    "bn1 = mx.sym.BatchNorm(conv1, fix_gamma=True)\n",
    "tanh1 = mx.sym.Activation(data=bn1, act_type='relu')\n",
    "pool1 = mx.sym.Pooling(data=tanh1, pool_type='max', kernel=(2,2), stride=(2,2))\n",
    "\n",
    "conv2 = mx.sym.Convolution(data=pool1, kernel=(5,5), num_filter=50, name='conv2')\n",
    "bn2 = mx.sym.BatchNorm(conv2, fix_gamma=True)\n",
    "tanh2 = mx.sym.Activation(data=bn2, act_type='relu')\n",
    "pool2 = mx.sym.Pooling(data=tanh2, pool_type='max', kernel=(2,2), stride=(2,2))\n",
    "\n",
    "flat = mx.sym.flatten(data=pool2)\n",
    "fc1 = mx.sym.FullyConnected(data=flat, num_hidden=512)\n",
    "tanh3 = mx.sym.Activation(data=fc1, act_type='relu')\n",
    "\n",
    "drop = mx.symbol.Dropout(tanh3, p=0.5)\n",
    "fc2 = mx.sym.FullyConnected(data=drop, num_hidden=num_class)\n",
    "\n",
    "convnet = mx.sym.SoftmaxOutput(data=fc2, name='softmax')\n",
    "\n",
    "mx.viz.plot_network(convnet)"
   ]
  },
  {
   "cell_type": "code",
   "execution_count": 42,
   "metadata": {
    "collapsed": true
   },
   "outputs": [],
   "source": [
    "model = mx.mod.Module(symbol=convnet, context=mx.gpu())"
   ]
  },
  {
   "cell_type": "code",
   "execution_count": 43,
   "metadata": {
    "collapsed": true
   },
   "outputs": [],
   "source": [
    "model.bind(data_shapes=train_iter.provide_data, label_shapes=train_iter.provide_label)\n",
    "model.init_params(initializer=mx.init.Uniform(scale=.01))\n",
    "model.init_optimizer(optimizer='sgd', optimizer_params={'learning_rate':0.001, 'wd': 0.001})\n",
    "\n",
    "metric = mx.metric.Accuracy()"
   ]
  },
  {
   "cell_type": "code",
   "execution_count": 44,
   "metadata": {
    "scrolled": true
   },
   "outputs": [
    {
     "name": "stderr",
     "output_type": "stream",
     "text": [
      "INFO:root:Saved checkpoint to \"models/chkpt-0000.params\"\n"
     ]
    },
    {
     "name": "stdout",
     "output_type": "stream",
     "text": [
      "Epoch 0, Training ('accuracy', 0.06298828125), Time 7.57\n",
      "Epoch 1, Training ('accuracy', 0.1279296875), Time 5.59\n",
      "Epoch 2, Training ('accuracy', 0.19873046875), Time 5.82\n",
      "Epoch 3, Training ('accuracy', 0.279296875), Time 5.82\n",
      "Epoch 4, Training ('accuracy', 0.34423828125), Time 5.82\n",
      "Epoch 5, Training ('accuracy', 0.39599609375), Time 5.83\n",
      "Epoch 6, Training ('accuracy', 0.455078125), Time 5.82\n",
      "Epoch 7, Training ('accuracy', 0.49267578125), Time 5.83\n",
      "Epoch 8, Training ('accuracy', 0.5458984375), Time 5.83\n",
      "Epoch 9, Training ('accuracy', 0.58642578125), Time 5.82\n",
      "Epoch 10, Training ('accuracy', 0.6123046875), Time 5.83\n",
      "Epoch 11, Training ('accuracy', 0.65283203125), Time 5.82\n",
      "Epoch 12, Training ('accuracy', 0.6845703125), Time 5.83\n",
      "Epoch 13, Training ('accuracy', 0.6826171875), Time 5.82\n",
      "Epoch 14, Training ('accuracy', 0.7275390625), Time 5.82\n",
      "Epoch 15, Training ('accuracy', 0.73974609375), Time 5.82\n",
      "Epoch 16, Training ('accuracy', 0.759765625), Time 5.82\n",
      "Epoch 17, Training ('accuracy', 0.77685546875), Time 5.83\n",
      "Epoch 18, Training ('accuracy', 0.79638671875), Time 5.83\n",
      "Epoch 19, Training ('accuracy', 0.8125), Time 5.82\n",
      "Epoch 20, Training ('accuracy', 0.83984375), Time 5.82\n",
      "Epoch 21, Training ('accuracy', 0.8330078125), Time 5.82\n",
      "Epoch 22, Training ('accuracy', 0.83837890625), Time 5.82\n",
      "Epoch 23, Training ('accuracy', 0.86376953125), Time 5.82\n",
      "Epoch 24, Training ('accuracy', 0.85986328125), Time 5.83\n",
      "Epoch 25, Training ('accuracy', 0.8837890625), Time 5.82\n",
      "Epoch 26, Training ('accuracy', 0.87451171875), Time 5.82\n",
      "Epoch 27, Training ('accuracy', 0.8896484375), Time 5.83\n",
      "Epoch 28, Training ('accuracy', 0.8916015625), Time 5.83\n",
      "Epoch 29, Training ('accuracy', 0.90283203125), Time 5.83\n"
     ]
    },
    {
     "name": "stderr",
     "output_type": "stream",
     "text": [
      "INFO:root:Saved checkpoint to \"models/chkpt-0030.params\"\n"
     ]
    },
    {
     "name": "stdout",
     "output_type": "stream",
     "text": [
      "Epoch 30, Training ('accuracy', 0.91064453125), Time 7.71\n",
      "Epoch 31, Training ('accuracy', 0.89794921875), Time 5.59\n",
      "Epoch 32, Training ('accuracy', 0.9111328125), Time 5.83\n",
      "Epoch 33, Training ('accuracy', 0.90966796875), Time 5.83\n",
      "Epoch 34, Training ('accuracy', 0.92431640625), Time 5.83\n",
      "Epoch 35, Training ('accuracy', 0.9208984375), Time 5.83\n",
      "Epoch 36, Training ('accuracy', 0.92724609375), Time 5.83\n",
      "Epoch 37, Training ('accuracy', 0.931640625), Time 5.83\n",
      "Epoch 38, Training ('accuracy', 0.92724609375), Time 5.82\n",
      "Epoch 39, Training ('accuracy', 0.9375), Time 5.83\n",
      "Epoch 40, Training ('accuracy', 0.93505859375), Time 5.82\n",
      "Epoch 41, Training ('accuracy', 0.9384765625), Time 5.83\n",
      "Epoch 42, Training ('accuracy', 0.9443359375), Time 5.83\n",
      "Epoch 43, Training ('accuracy', 0.94140625), Time 5.83\n",
      "Epoch 44, Training ('accuracy', 0.95166015625), Time 5.83\n",
      "Epoch 45, Training ('accuracy', 0.9443359375), Time 5.83\n",
      "Epoch 46, Training ('accuracy', 0.94921875), Time 5.83\n",
      "Epoch 47, Training ('accuracy', 0.94677734375), Time 5.83\n",
      "Epoch 48, Training ('accuracy', 0.95556640625), Time 5.82\n",
      "Epoch 49, Training ('accuracy', 0.94970703125), Time 5.83\n",
      "Epoch 50, Training ('accuracy', 0.9638671875), Time 5.83\n",
      "Epoch 51, Training ('accuracy', 0.94921875), Time 5.83\n",
      "Epoch 52, Training ('accuracy', 0.953125), Time 5.83\n",
      "Epoch 53, Training ('accuracy', 0.9541015625), Time 5.83\n",
      "Epoch 54, Training ('accuracy', 0.96240234375), Time 5.83\n",
      "Epoch 55, Training ('accuracy', 0.962890625), Time 5.83\n",
      "Epoch 56, Training ('accuracy', 0.9638671875), Time 5.83\n",
      "Epoch 57, Training ('accuracy', 0.97119140625), Time 5.83\n",
      "Epoch 58, Training ('accuracy', 0.96533203125), Time 5.83\n",
      "Epoch 59, Training ('accuracy', 0.96484375), Time 5.83\n"
     ]
    },
    {
     "name": "stderr",
     "output_type": "stream",
     "text": [
      "INFO:root:Saved checkpoint to \"models/chkpt-0060.params\"\n"
     ]
    },
    {
     "name": "stdout",
     "output_type": "stream",
     "text": [
      "Epoch 60, Training ('accuracy', 0.966796875), Time 6.34\n",
      "Epoch 61, Training ('accuracy', 0.96630859375), Time 5.59\n",
      "Epoch 62, Training ('accuracy', 0.97119140625), Time 5.83\n",
      "Epoch 63, Training ('accuracy', 0.96435546875), Time 5.83\n",
      "Epoch 64, Training ('accuracy', 0.96484375), Time 5.83\n",
      "Epoch 65, Training ('accuracy', 0.96923828125), Time 5.83\n",
      "Epoch 66, Training ('accuracy', 0.9697265625), Time 5.83\n",
      "Epoch 67, Training ('accuracy', 0.974609375), Time 5.83\n",
      "Epoch 68, Training ('accuracy', 0.97216796875), Time 5.82\n",
      "Epoch 69, Training ('accuracy', 0.9755859375), Time 5.83\n",
      "Epoch 70, Training ('accuracy', 0.97509765625), Time 5.83\n",
      "Epoch 71, Training ('accuracy', 0.97216796875), Time 5.83\n",
      "Epoch 72, Training ('accuracy', 0.97216796875), Time 5.82\n",
      "Epoch 73, Training ('accuracy', 0.970703125), Time 5.83\n",
      "Epoch 74, Training ('accuracy', 0.97119140625), Time 5.82\n",
      "Epoch 75, Training ('accuracy', 0.9755859375), Time 5.83\n",
      "Epoch 76, Training ('accuracy', 0.9736328125), Time 5.82\n",
      "Epoch 77, Training ('accuracy', 0.97119140625), Time 5.83\n",
      "Epoch 78, Training ('accuracy', 0.9736328125), Time 5.83\n",
      "Epoch 79, Training ('accuracy', 0.978515625), Time 5.83\n",
      "Epoch 80, Training ('accuracy', 0.97900390625), Time 5.82\n",
      "Epoch 81, Training ('accuracy', 0.9765625), Time 5.82\n",
      "Epoch 82, Training ('accuracy', 0.9765625), Time 5.83\n",
      "Epoch 83, Training ('accuracy', 0.97998046875), Time 5.82\n",
      "Epoch 84, Training ('accuracy', 0.98046875), Time 5.83\n",
      "Epoch 85, Training ('accuracy', 0.97900390625), Time 5.83\n",
      "Epoch 86, Training ('accuracy', 0.97802734375), Time 5.83\n",
      "Epoch 87, Training ('accuracy', 0.97900390625), Time 5.83\n",
      "Epoch 88, Training ('accuracy', 0.97314453125), Time 5.83\n",
      "Epoch 89, Training ('accuracy', 0.982421875), Time 5.83\n"
     ]
    },
    {
     "name": "stderr",
     "output_type": "stream",
     "text": [
      "INFO:root:Saved checkpoint to \"models/chkpt-0090.params\"\n"
     ]
    },
    {
     "name": "stdout",
     "output_type": "stream",
     "text": [
      "Epoch 90, Training ('accuracy', 0.978515625), Time 6.34\n",
      "Epoch 91, Training ('accuracy', 0.97607421875), Time 5.59\n",
      "Epoch 92, Training ('accuracy', 0.97998046875), Time 5.83\n",
      "Epoch 93, Training ('accuracy', 0.9755859375), Time 5.83\n",
      "Epoch 94, Training ('accuracy', 0.97998046875), Time 5.83\n",
      "Epoch 95, Training ('accuracy', 0.98388671875), Time 5.83\n",
      "Epoch 96, Training ('accuracy', 0.98095703125), Time 5.82\n",
      "Epoch 97, Training ('accuracy', 0.98193359375), Time 5.83\n",
      "Epoch 98, Training ('accuracy', 0.9853515625), Time 5.83\n",
      "Epoch 99, Training ('accuracy', 0.98046875), Time 5.82\n",
      "Epoch 100, Training ('accuracy', 0.9833984375), Time 5.83\n",
      "Epoch 101, Training ('accuracy', 0.982421875), Time 5.82\n",
      "Epoch 102, Training ('accuracy', 0.98193359375), Time 5.83\n",
      "Epoch 103, Training ('accuracy', 0.98046875), Time 5.83\n",
      "Epoch 104, Training ('accuracy', 0.98291015625), Time 5.83\n",
      "Epoch 105, Training ('accuracy', 0.98388671875), Time 5.83\n",
      "Epoch 106, Training ('accuracy', 0.98193359375), Time 5.83\n",
      "Epoch 107, Training ('accuracy', 0.98291015625), Time 5.82\n",
      "Epoch 108, Training ('accuracy', 0.9853515625), Time 5.83\n",
      "Epoch 109, Training ('accuracy', 0.986328125), Time 5.83\n",
      "Epoch 110, Training ('accuracy', 0.982421875), Time 5.83\n",
      "Epoch 111, Training ('accuracy', 0.98974609375), Time 5.83\n",
      "Epoch 112, Training ('accuracy', 0.982421875), Time 5.83\n",
      "Epoch 113, Training ('accuracy', 0.986328125), Time 5.82\n",
      "Epoch 114, Training ('accuracy', 0.9853515625), Time 5.82\n",
      "Epoch 115, Training ('accuracy', 0.984375), Time 5.83\n",
      "Epoch 116, Training ('accuracy', 0.98779296875), Time 5.83\n",
      "Epoch 117, Training ('accuracy', 0.98388671875), Time 5.82\n",
      "Epoch 118, Training ('accuracy', 0.9853515625), Time 5.82\n",
      "Epoch 119, Training ('accuracy', 0.98291015625), Time 5.83\n"
     ]
    },
    {
     "name": "stderr",
     "output_type": "stream",
     "text": [
      "INFO:root:Saved checkpoint to \"models/chkpt-0120.params\"\n"
     ]
    },
    {
     "name": "stdout",
     "output_type": "stream",
     "text": [
      "Epoch 120, Training ('accuracy', 0.98583984375), Time 6.34\n",
      "Epoch 121, Training ('accuracy', 0.9833984375), Time 5.59\n",
      "Epoch 122, Training ('accuracy', 0.9912109375), Time 5.83\n",
      "Epoch 123, Training ('accuracy', 0.9892578125), Time 5.83\n",
      "Epoch 124, Training ('accuracy', 0.986328125), Time 5.83\n",
      "Epoch 125, Training ('accuracy', 0.98876953125), Time 5.83\n",
      "Epoch 126, Training ('accuracy', 0.98583984375), Time 5.83\n",
      "Epoch 127, Training ('accuracy', 0.98779296875), Time 5.82\n",
      "Epoch 128, Training ('accuracy', 0.984375), Time 5.82\n",
      "Epoch 129, Training ('accuracy', 0.98779296875), Time 5.83\n",
      "Epoch 130, Training ('accuracy', 0.98681640625), Time 5.82\n",
      "Epoch 131, Training ('accuracy', 0.98583984375), Time 5.83\n",
      "Epoch 132, Training ('accuracy', 0.98974609375), Time 5.83\n",
      "Epoch 133, Training ('accuracy', 0.986328125), Time 5.82\n",
      "Epoch 134, Training ('accuracy', 0.98876953125), Time 5.82\n",
      "Epoch 135, Training ('accuracy', 0.990234375), Time 5.83\n",
      "Epoch 136, Training ('accuracy', 0.98876953125), Time 5.83\n",
      "Epoch 137, Training ('accuracy', 0.99072265625), Time 5.82\n",
      "Epoch 138, Training ('accuracy', 0.98779296875), Time 5.83\n",
      "Epoch 139, Training ('accuracy', 0.98828125), Time 5.83\n",
      "Epoch 140, Training ('accuracy', 0.990234375), Time 5.83\n",
      "Epoch 141, Training ('accuracy', 0.9892578125), Time 5.82\n",
      "Epoch 142, Training ('accuracy', 0.990234375), Time 5.83\n",
      "Epoch 143, Training ('accuracy', 0.9912109375), Time 5.83\n",
      "Epoch 144, Training ('accuracy', 0.98876953125), Time 5.83\n",
      "Epoch 145, Training ('accuracy', 0.98828125), Time 5.83\n",
      "Epoch 146, Training ('accuracy', 0.990234375), Time 5.83\n",
      "Epoch 147, Training ('accuracy', 0.990234375), Time 5.83\n",
      "Epoch 148, Training ('accuracy', 0.98876953125), Time 5.82\n",
      "Epoch 149, Training ('accuracy', 0.990234375), Time 5.83\n"
     ]
    },
    {
     "name": "stderr",
     "output_type": "stream",
     "text": [
      "INFO:root:Saved checkpoint to \"models/chkpt-0150.params\"\n"
     ]
    },
    {
     "name": "stdout",
     "output_type": "stream",
     "text": [
      "Epoch 150, Training ('accuracy', 0.9892578125), Time 6.34\n",
      "Epoch 151, Training ('accuracy', 0.98828125), Time 5.59\n",
      "Epoch 152, Training ('accuracy', 0.9892578125), Time 5.83\n",
      "Epoch 153, Training ('accuracy', 0.9873046875), Time 5.83\n",
      "Epoch 154, Training ('accuracy', 0.99169921875), Time 5.83\n",
      "Epoch 155, Training ('accuracy', 0.99267578125), Time 5.83\n",
      "Epoch 156, Training ('accuracy', 0.99072265625), Time 5.83\n",
      "Epoch 157, Training ('accuracy', 0.9912109375), Time 5.82\n",
      "Epoch 158, Training ('accuracy', 0.98876953125), Time 5.83\n",
      "Epoch 159, Training ('accuracy', 0.99169921875), Time 5.82\n",
      "Epoch 160, Training ('accuracy', 0.99169921875), Time 5.83\n",
      "Epoch 161, Training ('accuracy', 0.9921875), Time 5.83\n",
      "Epoch 162, Training ('accuracy', 0.9921875), Time 5.83\n",
      "Epoch 163, Training ('accuracy', 0.9921875), Time 5.83\n",
      "Epoch 164, Training ('accuracy', 0.99169921875), Time 5.83\n",
      "Epoch 165, Training ('accuracy', 0.98876953125), Time 5.83\n",
      "Epoch 166, Training ('accuracy', 0.99072265625), Time 5.83\n",
      "Epoch 167, Training ('accuracy', 0.990234375), Time 5.83\n",
      "Epoch 168, Training ('accuracy', 0.99267578125), Time 5.83\n",
      "Epoch 169, Training ('accuracy', 0.98974609375), Time 5.83\n",
      "Epoch 170, Training ('accuracy', 0.9931640625), Time 5.83\n",
      "Epoch 171, Training ('accuracy', 0.99169921875), Time 5.83\n",
      "Epoch 172, Training ('accuracy', 0.9921875), Time 5.83\n",
      "Epoch 173, Training ('accuracy', 0.990234375), Time 5.82\n",
      "Epoch 174, Training ('accuracy', 0.990234375), Time 5.83\n",
      "Epoch 175, Training ('accuracy', 0.99462890625), Time 5.83\n",
      "Epoch 176, Training ('accuracy', 0.99169921875), Time 5.83\n",
      "Epoch 177, Training ('accuracy', 0.98974609375), Time 5.83\n",
      "Epoch 178, Training ('accuracy', 0.99365234375), Time 5.83\n",
      "Epoch 179, Training ('accuracy', 0.990234375), Time 5.82\n"
     ]
    },
    {
     "name": "stderr",
     "output_type": "stream",
     "text": [
      "INFO:root:Saved checkpoint to \"models/chkpt-0180.params\"\n"
     ]
    },
    {
     "name": "stdout",
     "output_type": "stream",
     "text": [
      "Epoch 180, Training ('accuracy', 0.99462890625), Time 6.34\n",
      "Epoch 181, Training ('accuracy', 0.990234375), Time 5.60\n",
      "Epoch 182, Training ('accuracy', 0.9921875), Time 5.83\n",
      "Epoch 183, Training ('accuracy', 0.9921875), Time 5.83\n",
      "Epoch 184, Training ('accuracy', 0.9921875), Time 5.83\n",
      "Epoch 185, Training ('accuracy', 0.99169921875), Time 5.83\n",
      "Epoch 186, Training ('accuracy', 0.9931640625), Time 5.83\n",
      "Epoch 187, Training ('accuracy', 0.99267578125), Time 5.83\n",
      "Epoch 188, Training ('accuracy', 0.9921875), Time 5.83\n",
      "Epoch 189, Training ('accuracy', 0.99462890625), Time 5.83\n",
      "Epoch 190, Training ('accuracy', 0.9951171875), Time 5.83\n",
      "Epoch 191, Training ('accuracy', 0.9912109375), Time 5.83\n",
      "Epoch 192, Training ('accuracy', 0.99072265625), Time 5.83\n",
      "Epoch 193, Training ('accuracy', 0.99365234375), Time 5.83\n",
      "Epoch 194, Training ('accuracy', 0.99462890625), Time 5.83\n",
      "Epoch 195, Training ('accuracy', 0.99267578125), Time 5.83\n",
      "Epoch 196, Training ('accuracy', 0.9931640625), Time 5.82\n",
      "Epoch 197, Training ('accuracy', 0.994140625), Time 5.83\n",
      "Epoch 198, Training ('accuracy', 0.99365234375), Time 5.83\n",
      "Epoch 199, Training ('accuracy', 0.9951171875), Time 5.83\n",
      "Epoch 200, Training ('accuracy', 0.9912109375), Time 5.83\n",
      "Epoch 201, Training ('accuracy', 0.99462890625), Time 5.83\n",
      "Epoch 202, Training ('accuracy', 0.9931640625), Time 5.83\n",
      "Epoch 203, Training ('accuracy', 0.9931640625), Time 5.83\n",
      "Epoch 204, Training ('accuracy', 0.9931640625), Time 5.83\n",
      "Epoch 205, Training ('accuracy', 0.9912109375), Time 5.83\n",
      "Epoch 206, Training ('accuracy', 0.99365234375), Time 5.83\n",
      "Epoch 207, Training ('accuracy', 0.99267578125), Time 5.83\n",
      "Epoch 208, Training ('accuracy', 0.99365234375), Time 5.83\n",
      "Epoch 209, Training ('accuracy', 0.99560546875), Time 5.83\n"
     ]
    },
    {
     "name": "stderr",
     "output_type": "stream",
     "text": [
      "INFO:root:Saved checkpoint to \"models/chkpt-0210.params\"\n"
     ]
    },
    {
     "name": "stdout",
     "output_type": "stream",
     "text": [
      "Epoch 210, Training ('accuracy', 0.99365234375), Time 6.34\n"
     ]
    },
    {
     "ename": "KeyboardInterrupt",
     "evalue": "",
     "output_type": "error",
     "traceback": [
      "\u001b[0;31m---------------------------------------------------------------------------\u001b[0m",
      "\u001b[0;31mKeyboardInterrupt\u001b[0m                         Traceback (most recent call last)",
      "\u001b[0;32m<ipython-input-44-4881940bacc0>\u001b[0m in \u001b[0;36m<module>\u001b[0;34m()\u001b[0m\n\u001b[1;32m      7\u001b[0m     \u001b[0;32mfor\u001b[0m \u001b[0mbatch\u001b[0m \u001b[0;32min\u001b[0m \u001b[0mtrain_iter\u001b[0m\u001b[0;34m:\u001b[0m\u001b[0;34m\u001b[0m\u001b[0m\n\u001b[1;32m      8\u001b[0m         \u001b[0mmodel\u001b[0m\u001b[0;34m.\u001b[0m\u001b[0mforward\u001b[0m\u001b[0;34m(\u001b[0m\u001b[0mdata_batch\u001b[0m\u001b[0;34m=\u001b[0m\u001b[0mbatch\u001b[0m\u001b[0;34m,\u001b[0m \u001b[0mis_train\u001b[0m\u001b[0;34m=\u001b[0m\u001b[0mTrue\u001b[0m\u001b[0;34m)\u001b[0m\u001b[0;34m\u001b[0m\u001b[0m\n\u001b[0;32m----> 9\u001b[0;31m         \u001b[0mmodel\u001b[0m\u001b[0;34m.\u001b[0m\u001b[0mupdate_metric\u001b[0m\u001b[0;34m(\u001b[0m\u001b[0mmetric\u001b[0m\u001b[0;34m,\u001b[0m \u001b[0mbatch\u001b[0m\u001b[0;34m.\u001b[0m\u001b[0mlabel\u001b[0m\u001b[0;34m)\u001b[0m\u001b[0;34m\u001b[0m\u001b[0m\n\u001b[0m\u001b[1;32m     10\u001b[0m         \u001b[0mmodel\u001b[0m\u001b[0;34m.\u001b[0m\u001b[0mbackward\u001b[0m\u001b[0;34m(\u001b[0m\u001b[0;34m)\u001b[0m\u001b[0;34m\u001b[0m\u001b[0m\n\u001b[1;32m     11\u001b[0m         \u001b[0mmodel\u001b[0m\u001b[0;34m.\u001b[0m\u001b[0mupdate\u001b[0m\u001b[0;34m(\u001b[0m\u001b[0;34m)\u001b[0m\u001b[0;34m\u001b[0m\u001b[0m\n",
      "\u001b[0;32m/usr/local/lib/python2.7/dist-packages/mxnet-0.11.0-py2.7.egg/mxnet/module/module.pyc\u001b[0m in \u001b[0;36mupdate_metric\u001b[0;34m(self, eval_metric, labels)\u001b[0m\n\u001b[1;32m    733\u001b[0m             \u001b[0mTypically\u001b[0m \u001b[0;34m`\u001b[0m\u001b[0;34m`\u001b[0m\u001b[0mdata_batch\u001b[0m\u001b[0;34m.\u001b[0m\u001b[0mlabel\u001b[0m\u001b[0;34m`\u001b[0m\u001b[0;34m`\u001b[0m\u001b[0;34m.\u001b[0m\u001b[0;34m\u001b[0m\u001b[0m\n\u001b[1;32m    734\u001b[0m         \"\"\"\n\u001b[0;32m--> 735\u001b[0;31m         \u001b[0mself\u001b[0m\u001b[0;34m.\u001b[0m\u001b[0m_exec_group\u001b[0m\u001b[0;34m.\u001b[0m\u001b[0mupdate_metric\u001b[0m\u001b[0;34m(\u001b[0m\u001b[0meval_metric\u001b[0m\u001b[0;34m,\u001b[0m \u001b[0mlabels\u001b[0m\u001b[0;34m)\u001b[0m\u001b[0;34m\u001b[0m\u001b[0m\n\u001b[0m\u001b[1;32m    736\u001b[0m \u001b[0;34m\u001b[0m\u001b[0m\n\u001b[1;32m    737\u001b[0m     \u001b[0;32mdef\u001b[0m \u001b[0m_sync_params_from_devices\u001b[0m\u001b[0;34m(\u001b[0m\u001b[0mself\u001b[0m\u001b[0;34m)\u001b[0m\u001b[0;34m:\u001b[0m\u001b[0;34m\u001b[0m\u001b[0m\n",
      "\u001b[0;32m/usr/local/lib/python2.7/dist-packages/mxnet-0.11.0-py2.7.egg/mxnet/module/executor_group.pyc\u001b[0m in \u001b[0;36mupdate_metric\u001b[0;34m(self, eval_metric, labels)\u001b[0m\n\u001b[1;32m    580\u001b[0m             \u001b[0mlabels_\u001b[0m \u001b[0;34m=\u001b[0m \u001b[0mOrderedDict\u001b[0m\u001b[0;34m(\u001b[0m\u001b[0mzip\u001b[0m\u001b[0;34m(\u001b[0m\u001b[0mself\u001b[0m\u001b[0;34m.\u001b[0m\u001b[0mlabel_names\u001b[0m\u001b[0;34m,\u001b[0m \u001b[0mlabels_slice\u001b[0m\u001b[0;34m)\u001b[0m\u001b[0;34m)\u001b[0m\u001b[0;34m\u001b[0m\u001b[0m\n\u001b[1;32m    581\u001b[0m             \u001b[0mpreds\u001b[0m \u001b[0;34m=\u001b[0m \u001b[0mOrderedDict\u001b[0m\u001b[0;34m(\u001b[0m\u001b[0mzip\u001b[0m\u001b[0;34m(\u001b[0m\u001b[0mself\u001b[0m\u001b[0;34m.\u001b[0m\u001b[0moutput_names\u001b[0m\u001b[0;34m,\u001b[0m \u001b[0mtexec\u001b[0m\u001b[0;34m.\u001b[0m\u001b[0moutputs\u001b[0m\u001b[0;34m)\u001b[0m\u001b[0;34m)\u001b[0m\u001b[0;34m\u001b[0m\u001b[0m\n\u001b[0;32m--> 582\u001b[0;31m             \u001b[0meval_metric\u001b[0m\u001b[0;34m.\u001b[0m\u001b[0mupdate_dict\u001b[0m\u001b[0;34m(\u001b[0m\u001b[0mlabels_\u001b[0m\u001b[0;34m,\u001b[0m \u001b[0mpreds\u001b[0m\u001b[0;34m)\u001b[0m\u001b[0;34m\u001b[0m\u001b[0m\n\u001b[0m\u001b[1;32m    583\u001b[0m \u001b[0;34m\u001b[0m\u001b[0m\n\u001b[1;32m    584\u001b[0m     \u001b[0;32mdef\u001b[0m \u001b[0m_bind_ith_exec\u001b[0m\u001b[0;34m(\u001b[0m\u001b[0mself\u001b[0m\u001b[0;34m,\u001b[0m \u001b[0mi\u001b[0m\u001b[0;34m,\u001b[0m \u001b[0mdata_shapes\u001b[0m\u001b[0;34m,\u001b[0m \u001b[0mlabel_shapes\u001b[0m\u001b[0;34m,\u001b[0m \u001b[0mshared_group\u001b[0m\u001b[0;34m)\u001b[0m\u001b[0;34m:\u001b[0m\u001b[0;34m\u001b[0m\u001b[0m\n",
      "\u001b[0;32m/usr/local/lib/python2.7/dist-packages/mxnet-0.11.0-py2.7.egg/mxnet/metric.pyc\u001b[0m in \u001b[0;36mupdate_dict\u001b[0;34m(self, label, pred)\u001b[0m\n\u001b[1;32m    106\u001b[0m             \u001b[0mlabel\u001b[0m \u001b[0;34m=\u001b[0m \u001b[0mlist\u001b[0m\u001b[0;34m(\u001b[0m\u001b[0mlabel\u001b[0m\u001b[0;34m.\u001b[0m\u001b[0mvalues\u001b[0m\u001b[0;34m(\u001b[0m\u001b[0;34m)\u001b[0m\u001b[0;34m)\u001b[0m\u001b[0;34m\u001b[0m\u001b[0m\n\u001b[1;32m    107\u001b[0m \u001b[0;34m\u001b[0m\u001b[0m\n\u001b[0;32m--> 108\u001b[0;31m         \u001b[0mself\u001b[0m\u001b[0;34m.\u001b[0m\u001b[0mupdate\u001b[0m\u001b[0;34m(\u001b[0m\u001b[0mlabel\u001b[0m\u001b[0;34m,\u001b[0m \u001b[0mpred\u001b[0m\u001b[0;34m)\u001b[0m\u001b[0;34m\u001b[0m\u001b[0m\n\u001b[0m\u001b[1;32m    109\u001b[0m \u001b[0;34m\u001b[0m\u001b[0m\n\u001b[1;32m    110\u001b[0m     \u001b[0;32mdef\u001b[0m \u001b[0mupdate\u001b[0m\u001b[0;34m(\u001b[0m\u001b[0mself\u001b[0m\u001b[0;34m,\u001b[0m \u001b[0mlabels\u001b[0m\u001b[0;34m,\u001b[0m \u001b[0mpreds\u001b[0m\u001b[0;34m)\u001b[0m\u001b[0;34m:\u001b[0m\u001b[0;34m\u001b[0m\u001b[0m\n",
      "\u001b[0;32m/usr/local/lib/python2.7/dist-packages/mxnet-0.11.0-py2.7.egg/mxnet/metric.pyc\u001b[0m in \u001b[0;36mupdate\u001b[0;34m(self, labels, preds)\u001b[0m\n\u001b[1;32m    391\u001b[0m             \u001b[0;32mif\u001b[0m \u001b[0mpred_label\u001b[0m\u001b[0;34m.\u001b[0m\u001b[0mshape\u001b[0m \u001b[0;34m!=\u001b[0m \u001b[0mlabel\u001b[0m\u001b[0;34m.\u001b[0m\u001b[0mshape\u001b[0m\u001b[0;34m:\u001b[0m\u001b[0;34m\u001b[0m\u001b[0m\n\u001b[1;32m    392\u001b[0m                 \u001b[0mpred_label\u001b[0m \u001b[0;34m=\u001b[0m \u001b[0mndarray\u001b[0m\u001b[0;34m.\u001b[0m\u001b[0margmax\u001b[0m\u001b[0;34m(\u001b[0m\u001b[0mpred_label\u001b[0m\u001b[0;34m,\u001b[0m \u001b[0maxis\u001b[0m\u001b[0;34m=\u001b[0m\u001b[0mself\u001b[0m\u001b[0;34m.\u001b[0m\u001b[0maxis\u001b[0m\u001b[0;34m)\u001b[0m\u001b[0;34m\u001b[0m\u001b[0m\n\u001b[0;32m--> 393\u001b[0;31m             \u001b[0mpred_label\u001b[0m \u001b[0;34m=\u001b[0m \u001b[0mpred_label\u001b[0m\u001b[0;34m.\u001b[0m\u001b[0masnumpy\u001b[0m\u001b[0;34m(\u001b[0m\u001b[0;34m)\u001b[0m\u001b[0;34m.\u001b[0m\u001b[0mastype\u001b[0m\u001b[0;34m(\u001b[0m\u001b[0;34m'int32'\u001b[0m\u001b[0;34m)\u001b[0m\u001b[0;34m\u001b[0m\u001b[0m\n\u001b[0m\u001b[1;32m    394\u001b[0m             \u001b[0mlabel\u001b[0m \u001b[0;34m=\u001b[0m \u001b[0mlabel\u001b[0m\u001b[0;34m.\u001b[0m\u001b[0masnumpy\u001b[0m\u001b[0;34m(\u001b[0m\u001b[0;34m)\u001b[0m\u001b[0;34m.\u001b[0m\u001b[0mastype\u001b[0m\u001b[0;34m(\u001b[0m\u001b[0;34m'int32'\u001b[0m\u001b[0;34m)\u001b[0m\u001b[0;34m\u001b[0m\u001b[0m\n\u001b[1;32m    395\u001b[0m \u001b[0;34m\u001b[0m\u001b[0m\n",
      "\u001b[0;32m/usr/local/lib/python2.7/dist-packages/mxnet-0.11.0-py2.7.egg/mxnet/ndarray.pyc\u001b[0m in \u001b[0;36masnumpy\u001b[0;34m(self)\u001b[0m\n\u001b[1;32m    909\u001b[0m             \u001b[0mself\u001b[0m\u001b[0;34m.\u001b[0m\u001b[0mhandle\u001b[0m\u001b[0;34m,\u001b[0m\u001b[0;34m\u001b[0m\u001b[0m\n\u001b[1;32m    910\u001b[0m             \u001b[0mdata\u001b[0m\u001b[0;34m.\u001b[0m\u001b[0mctypes\u001b[0m\u001b[0;34m.\u001b[0m\u001b[0mdata_as\u001b[0m\u001b[0;34m(\u001b[0m\u001b[0mctypes\u001b[0m\u001b[0;34m.\u001b[0m\u001b[0mc_void_p\u001b[0m\u001b[0;34m)\u001b[0m\u001b[0;34m,\u001b[0m\u001b[0;34m\u001b[0m\u001b[0m\n\u001b[0;32m--> 911\u001b[0;31m             ctypes.c_size_t(data.size)))\n\u001b[0m\u001b[1;32m    912\u001b[0m         \u001b[0;32mreturn\u001b[0m \u001b[0mdata\u001b[0m\u001b[0;34m\u001b[0m\u001b[0m\n\u001b[1;32m    913\u001b[0m \u001b[0;34m\u001b[0m\u001b[0m\n",
      "\u001b[0;31mKeyboardInterrupt\u001b[0m: "
     ]
    }
   ],
   "source": [
    "chk_prefix='models/chkpt'\n",
    "for epoch in range(400):\n",
    "    train_iter.reset()\n",
    "    metric.reset()\n",
    "    \n",
    "    st = time.time()\n",
    "    for batch in train_iter:\n",
    "        model.forward(data_batch=batch, is_train=True)\n",
    "        model.update_metric(metric, batch.label)\n",
    "        model.backward()\n",
    "        model.update()\n",
    "    \n",
    "    if epoch % 30 == 0:\n",
    "#         model_path = '{}_{}'.format(chk_prefix, epoch)\n",
    "        model.save_checkpoint(chk_prefix, epoch)\n",
    "        \n",
    "    et = time.time()-st\n",
    "    print('Epoch %d, Training %s, Time %.2f' % (epoch, metric.get(), et))"
   ]
  },
  {
   "cell_type": "code",
   "execution_count": 45,
   "metadata": {},
   "outputs": [
    {
     "data": {
      "text/plain": [
       "[('accuracy', 0.984375)]"
      ]
     },
     "execution_count": 45,
     "metadata": {},
     "output_type": "execute_result"
    }
   ],
   "source": [
    "model.score(eval_iter, metric)"
   ]
  },
  {
   "cell_type": "code",
   "execution_count": null,
   "metadata": {
    "collapsed": true
   },
   "outputs": [],
   "source": [
    "# ls data1"
   ]
  },
  {
   "cell_type": "code",
   "execution_count": null,
   "metadata": {
    "collapsed": true
   },
   "outputs": [],
   "source": [
    "# # I took a picture of my hand \n",
    "# pred_im = cv2.imread('data1/test-crop.png', 0)\n",
    "# plt.imshow(pred_im)"
   ]
  },
  {
   "cell_type": "code",
   "execution_count": null,
   "metadata": {
    "collapsed": true
   },
   "outputs": [],
   "source": [
    "# pred_im.shape"
   ]
  },
  {
   "cell_type": "code",
   "execution_count": null,
   "metadata": {
    "collapsed": true
   },
   "outputs": [],
   "source": [
    "# pred_res = cv2.resize(pred_im,(200, 200), interpolation = cv2.INTER_CUBIC)\n",
    "# plt.imshow(pred_res)"
   ]
  },
  {
   "cell_type": "code",
   "execution_count": null,
   "metadata": {
    "collapsed": true
   },
   "outputs": [],
   "source": [
    "# test_ = np.empty((1,1,200,200))\n",
    "# test_[0][0] = pred_res\n",
    "# lb = np.array([0])"
   ]
  },
  {
   "cell_type": "code",
   "execution_count": null,
   "metadata": {
    "collapsed": true
   },
   "outputs": [],
   "source": [
    "# test_.shape#, lb.shape"
   ]
  },
  {
   "cell_type": "code",
   "execution_count": null,
   "metadata": {
    "collapsed": true
   },
   "outputs": [],
   "source": [
    "# eval_iter = mx.io.NDArrayIter(test_, lb, batch_size=1)"
   ]
  },
  {
   "cell_type": "code",
   "execution_count": null,
   "metadata": {
    "collapsed": true
   },
   "outputs": [],
   "source": [
    "# d = Batch([mx.nd.array(pred_res)])\n",
    "# # d, pred_res.shape\n",
    "# model.forward(data_batch=d)"
   ]
  },
  {
   "cell_type": "code",
   "execution_count": null,
   "metadata": {
    "collapsed": true
   },
   "outputs": [],
   "source": [
    "# def get_image(url, show=False):\n",
    "#     # download and show the image\n",
    "# #     fname = mx.test_utils.download(url)\n",
    "# #     img = cv2.cvtColor(cv2.imread(fname), cv2.COLOR_BGR2RGB)\n",
    "#     img = cv2.imread(url, 0)\n",
    "#     if img is None:\n",
    "#          return None\n",
    "#     if show:\n",
    "#          plt.imshow(img)\n",
    "#          plt.axis('off')\n",
    "\n",
    "#     img = cv2.resize(img, (200, 200), interpolation = cv2.INTER_CUBIC)\n",
    "# #     img = np.swapaxes(img, 0, 2)\n",
    "# #     img = np.swapaxes(img, 1, 2)\n",
    "#     img = img[np.newaxis, np.newaxis, :]\n",
    "#     return img"
   ]
  },
  {
   "cell_type": "code",
   "execution_count": null,
   "metadata": {
    "collapsed": true
   },
   "outputs": [],
   "source": [
    "# from collections import namedtuple\n",
    "# Batch = namedtuple('Batch', ['data'])\n",
    "# def predict(url):\n",
    "#     img = get_image(url, show=True)\n",
    "#     print img.shape\n",
    "#     print Batch([mx.nd.array(img)])\n",
    "#     # compute the predict probabilities\n",
    "# #     model.forward(Batch([mx.nd.array(img)]), is_train=False)\n",
    "# #     prob = mod.get_outputs()[0].asnumpy()\n",
    "# #     # print the top-5\n",
    "# #     prob = np.squeeze(prob)\n",
    "# #     a = np.argsort(prob)[::-1]\n",
    "# #     for i in a[0:5]:\n",
    "# #         print('probability=%f, class=%s' %(prob[i], labels[i]))"
   ]
  },
  {
   "cell_type": "code",
   "execution_count": null,
   "metadata": {
    "collapsed": true,
    "scrolled": false
   },
   "outputs": [],
   "source": [
    "# # test picture with label 0\n",
    "# # pred = model.predict(eval_iter)#.asnumpy()\n",
    "# predict('data1/test-crop.png')"
   ]
  },
  {
   "cell_type": "code",
   "execution_count": null,
   "metadata": {
    "collapsed": true
   },
   "outputs": [],
   "source": [
    "# pred.argmax() # correct!"
   ]
  },
  {
   "cell_type": "code",
   "execution_count": 48,
   "metadata": {
    "collapsed": true
   },
   "outputs": [],
   "source": [
    "sym, arg_params, aux_params = mx.model.load_checkpoint('models/chkpt', 210)\n",
    "mod = mx.mod.Module(symbol=sym, context=mx.cpu(), label_names=None)\n",
    "mod.bind(for_training=False, data_shapes=[('data', (1,3,200,200))], \n",
    "         label_shapes=mod._label_shapes)\n",
    "mod.set_params(arg_params, aux_params, allow_missing=True)"
   ]
  },
  {
   "cell_type": "code",
   "execution_count": 55,
   "metadata": {
    "collapsed": true
   },
   "outputs": [],
   "source": [
    "from collections import namedtuple\n",
    "Batch = namedtuple('Batch', ['data'])\n",
    "\n",
    "mod.forward(Batch([mx.nd.array(res)]))"
   ]
  },
  {
   "cell_type": "code",
   "execution_count": 57,
   "metadata": {},
   "outputs": [
    {
     "data": {
      "text/plain": [
       "\n",
       "[[  1.07715632e-08   8.27669567e-07   8.37977893e-07   3.39835642e-05\n",
       "    7.99212648e-06   6.54119503e-07   9.99485110e-07   5.14404292e-06\n",
       "    4.32374654e-05   2.37050335e-09   3.48504291e-05   3.76414590e-07\n",
       "    1.09531293e-05   6.28522757e-05   7.16310478e-06   1.60254403e-05\n",
       "    1.17708172e-04   1.41441080e-04   1.19263780e-06   7.00090372e-04\n",
       "    1.82696458e-05   1.46264331e-02   2.30391279e-08   9.25918903e-06\n",
       "    2.49642995e-04   3.70244466e-04   5.02268435e-04   9.87173116e-05\n",
       "    3.34505085e-03   9.79593754e-01]]\n",
       "<NDArray 1x30 @cpu(0)>"
      ]
     },
     "execution_count": 57,
     "metadata": {},
     "output_type": "execute_result"
    }
   ],
   "source": [
    "mod.get_outputs()[0]"
   ]
  },
  {
   "cell_type": "code",
   "execution_count": null,
   "metadata": {
    "collapsed": true
   },
   "outputs": [],
   "source": [
    "#    # save a model to mymodel-symbol.json and mymodel-0100.params\n",
    "#     prefix = 'mymodel'\n",
    "#     iteration = 100\n",
    "#     model.save(prefix, iteration)\n",
    "\n",
    "#     # load model back\n",
    "#     model_loaded = mx.model.FeedForward.load(prefix, iteration)"
   ]
  },
  {
   "cell_type": "code",
   "execution_count": null,
   "metadata": {
    "collapsed": true
   },
   "outputs": [],
   "source": []
  }
 ],
 "metadata": {
  "kernelspec": {
   "display_name": "Python 2",
   "language": "python",
   "name": "python2"
  },
  "language_info": {
   "codemirror_mode": {
    "name": "ipython",
    "version": 2
   },
   "file_extension": ".py",
   "mimetype": "text/x-python",
   "name": "python",
   "nbconvert_exporter": "python",
   "pygments_lexer": "ipython2",
   "version": "2.7.14"
  }
 },
 "nbformat": 4,
 "nbformat_minor": 2
}
